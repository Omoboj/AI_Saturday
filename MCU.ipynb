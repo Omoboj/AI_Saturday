{
 "cells": [
  {
   "cell_type": "code",
   "execution_count": null,
   "metadata": {},
   "outputs": [],
   "source": [
    "import pandas as pd\n",
    "import requests\n",
    "from bs4 import BeautifulSoup as bs\n",
    "import re"
   ]
  },
  {
   "cell_type": "markdown",
   "metadata": {},
   "source": [
    "### Load the Marvel wiki page"
   ]
  },
  {
   "cell_type": "code",
   "execution_count": null,
   "metadata": {},
   "outputs": [],
   "source": [
    "page= requests.get(\"https://en.wikipedia.org/wiki/Marvel_Cinematic_Universe\")\n",
    "soup= bs(page.content)\n",
    "file= soup.find(\"table\", attrs={\"wikitable plainrowheaders\"})"
   ]
  },
  {
   "cell_type": "markdown",
   "metadata": {},
   "source": [
    "### Get list of links to each movie page"
   ]
  },
  {
   "cell_type": "code",
   "execution_count": null,
   "metadata": {},
   "outputs": [],
   "source": [
    "def get_movie_page_links(data):\n",
    "    find_links= data.find_all(\"th\", attrs={\"scope\":\"row\"})\n",
    "    all_links= [link.a[\"href\"] for link in find_links]\n",
    "    return all_links\n",
    "\n",
    "all_links_file= get_movie_page_links(file)"
   ]
  },
  {
   "cell_type": "markdown",
   "metadata": {},
   "source": [
    "### Get the movie titles to serve as dictionary keys "
   ]
  },
  {
   "cell_type": "code",
   "execution_count": null,
   "metadata": {},
   "outputs": [],
   "source": [
    "def movie_titles():\n",
    "    return [movie.get_text().strip() for movie in file.find_all(\"th\", attrs={\"scope\":\"row\"})]\n",
    "\n",
    "titles= movie_titles()"
   ]
  },
  {
   "cell_type": "markdown",
   "metadata": {},
   "source": [
    "### Generating a list of table information on each movie from their respective link in the all_links_list"
   ]
  },
  {
   "cell_type": "code",
   "execution_count": null,
   "metadata": {},
   "outputs": [],
   "source": [
    "def get_data(link):\n",
    "    page= requests.get(\"https://en.wikipedia.org\" + link)\n",
    "    soup= bs(page.content)\n",
    "    file= soup.find(\"table\", attrs={\"infobox vevent\"})\n",
    "    return file\n",
    "\n",
    "def load_all_data():\n",
    "    return list(map(get_data, all_links_file))\n",
    "\n",
    "movie_data= load_all_data()"
   ]
  },
  {
   "cell_type": "markdown",
   "metadata": {},
   "source": [
    "### Create movie attributes for a movie (from a single movie link) and map it to the links in the movie_data file"
   ]
  },
  {
   "cell_type": "code",
   "execution_count": null,
   "metadata": {},
   "outputs": [],
   "source": [
    "def movie_info(data):\n",
    "    movie_attrs={}\n",
    "    for i in data:\n",
    "        try:\n",
    "            movie_attrs[i.find(\"th\").get_text()] = i.find(\"td\").get_text().strip()         \n",
    "        except AttributeError:\n",
    "            pass    \n",
    "    return movie_attrs\n",
    "\n",
    "def create_movies():\n",
    "    kkk= map(lambda x:movie_info(x.find_all(\"tr\")), movie_data)\n",
    "    return list(kkk)\n",
    "\n",
    "movie_features= create_movies()\n",
    "\n",
    "def movie_year():\n",
    "    return [re.match(r\"^\\w.+\\d$\", date.text).group().split(\",\")[1].strip() for date in file.find_all(\"span\") if re.match(r\"^\\w.+\\d$\", date.text) != None]\n",
    "\n",
    "def add_year():\n",
    "    for no in range(len(movie_features)):\n",
    "        movie_features[no][\"Year\"] = movie_year()[no]\n",
    "    return movie_features\n",
    "\n",
    "movie_features= add_year()"
   ]
  },
  {
   "cell_type": "markdown",
   "metadata": {},
   "source": [
    "#### Access the imdb ratings by mapping a fuction to scrape the rating from a movie site and map this function with the all_rating_links_file"
   ]
  },
  {
   "cell_type": "code",
   "execution_count": null,
   "metadata": {},
   "outputs": [],
   "source": [
    "def rating_link(link):\n",
    "    page= requests.get(\"https://en.wikipedia.org\" + link)\n",
    "    soup= bs(page.content)\n",
    "    file= soup.find_all(\"a\", attrs={\"rel\":\"nofollow\", \"class\":\"external text\"})\n",
    "    for y in file:\n",
    "        pattern= re.match(r\"^\\w+.+imdb.com.+\\d/$\", y[\"href\"])\n",
    "        if pattern != None:\n",
    "            return(pattern.group())\n",
    "        \n",
    "rating_links= map(rating_link, all_links_file)\n",
    "\n",
    "def get_rating(link):\n",
    "    page= requests.get(link)\n",
    "    soup= bs(page.content)\n",
    "    file= soup.find(\"div\", attrs={\"class\":\"ratingValue\"})\n",
    "    return float(file.span.get_text())\n",
    "\n",
    "ratings= list(map(get_rating, rating_links))\n"
   ]
  },
  {
   "cell_type": "markdown",
   "metadata": {},
   "source": [
    "#### Get the rotten_tomato rating by mapping the links of all the movies in the all_links_file with a function to get the rating of a single link"
   ]
  },
  {
   "cell_type": "code",
   "execution_count": null,
   "metadata": {},
   "outputs": [],
   "source": [
    "def get_tomatometer(link):\n",
    "    page= requests.get(\"https://en.wikipedia.org\" + link)\n",
    "    soup= bs(page.content)\n",
    "    file= soup.find_all(\"p\")\n",
    "    for paragraph in file:\n",
    "        \n",
    "        if re.search(r\"\\d\\.\\d+/[0-1]|\\d/[0-1]\", paragraph.text):\n",
    "            result= re.search(r\"\\d\\.\\d+/[0-1]|\\d/[0-1]\", paragraph.text).group().replace(\"/1\", \"\")\n",
    "            return float(result)\n",
    "\n",
    "tomatometer_rating= list(map(get_tomatometer, all_links_file))"
   ]
  },
  {
   "cell_type": "markdown",
   "metadata": {},
   "source": [
    "#### Get the metacritic rating by mapping the all_links_file with a function to scrape it from a single page"
   ]
  },
  {
   "cell_type": "code",
   "execution_count": null,
   "metadata": {},
   "outputs": [],
   "source": [
    "def get_metacritic(link):\n",
    "    page= requests.get(\"https://en.wikipedia.org\" + link)\n",
    "    soup= bs(page.content)\n",
    "    file= soup.find_all(\"p\")\n",
    "    for paragraph in file:   \n",
    "        if re.search(r\"\\d{2}\\s\\w{3}\\s\\w{2}\\s100\", paragraph.text):\n",
    "            result= re.search(r\"\\d{2}\\s\\w{3}\\s\\w{2}\\s100\", paragraph.text).group().split(\" \")[0]\n",
    "            return int(result)\n",
    "\n",
    "metacritic_rating= list(map(get_metacritic, all_links_file))"
   ]
  },
  {
   "cell_type": "markdown",
   "metadata": {},
   "source": [
    "### Add all ratings to the movie_features "
   ]
  },
  {
   "cell_type": "code",
   "execution_count": null,
   "metadata": {},
   "outputs": [],
   "source": [
    "def add_ratings():\n",
    "    for i in range(len(ratings)):\n",
    "        movie_features[i][\"imdb rating(over 10)\"]= imdb_rating[i]\n",
    "        movie_features[i][\"rotten tomato rating(over 10)\"]= tomatometer_rating[i]\n",
    "        movie_features[i][\"metacritic rating(over 100)\"]= metacritic_rating[i]\n",
    "    return movie_features\n",
    "\n",
    "movie_features= add_ratings()"
   ]
  },
  {
   "cell_type": "markdown",
   "metadata": {},
   "source": [
    "### Clean the movie_features dictionary, and extract the relevant data"
   ]
  },
  {
   "cell_type": "code",
   "execution_count": null,
   "metadata": {},
   "outputs": [],
   "source": [
    "def select_attrs(data):\n",
    "    keep= [\"Directed by\",\"Produced by\",\"Music by\",\"Cinematography\",\"Distributed by\",\"Box office\", \"Year\", \"imdb rating(over 10)\", \"rotten tomato rating(over 10)\", \"metacritic rating(over 100)\"]\n",
    "    for i in data:\n",
    "        for j in list(i.items()):\n",
    "            if j[0] not in keep:\n",
    "                i.pop(j[0])\n",
    "    return data\n",
    "\n",
    "def clean_features(data):\n",
    "    for i in data:\n",
    "        try:\n",
    "            i[\"Box office\"]= re.sub(r\"[$\\xa0]|\\[[0-9]\\]$\", \" \", i[\"Box office\"]).strip()\n",
    "            i[\"Cinematography\"]= i[\"Cinematography\"].replace(\"[1]\", \"\")\n",
    "            i[\"Distributed by\"]= i[\"Distributed by\"].replace(\"[N 1]\", \"\").replace(\"sM\", \"s M\")\n",
    "            if \"oJ\" in i[\"Directed by\"]:\n",
    "                i[\"Directed by\"]= i[\"Directed by\"].replace(\"oJ\", \"o,J\").split(\",\")\n",
    "            elif \"\\n\" in i[\"Music by\"]:\n",
    "                i[\"Music by\"]= i[\"Music by\"].split(\"\\n\")\n",
    "            elif \"\\n\" in i[\"Produced by\"]:\n",
    "                i[\"Produced by\"]= i[\"Produced by\"].split(\"\\n\")\n",
    "            else:\n",
    "                continue\n",
    "        except AttributeError:\n",
    "                pass    \n",
    "    return data"
   ]
  },
  {
   "cell_type": "code",
   "execution_count": null,
   "metadata": {},
   "outputs": [],
   "source": [
    "all_features= clean_features(select_attrs(movie_features))"
   ]
  },
  {
   "cell_type": "markdown",
   "metadata": {},
   "source": [
    "### Create a dictionary of individual movies and pair them with their respective movie_features"
   ]
  },
  {
   "cell_type": "code",
   "execution_count": null,
   "metadata": {},
   "outputs": [],
   "source": [
    "def movies_dict():\n",
    "    folder={}\n",
    "    for i in range(len(all_features)):\n",
    "        folder[titles[i]] = movie_features[i]\n",
    "    return folder\n",
    "\n",
    "all_marvel_movies= movies_dict()"
   ]
  },
  {
   "cell_type": "code",
   "execution_count": null,
   "metadata": {},
   "outputs": [],
   "source": [
    "all_marvel_movies"
   ]
  },
  {
   "cell_type": "markdown",
   "metadata": {},
   "source": [
    "### Create a dataframe of all the movies and their features for better analysis"
   ]
  },
  {
   "cell_type": "code",
   "execution_count": null,
   "metadata": {},
   "outputs": [],
   "source": [
    "def frame(data):\n",
    "    df= pd.DataFrame(data.values(), index= data.keys())\n",
    "    new=[]\n",
    "    for i in df[\"Box office\"]:\n",
    "        action= i.split(\" \")\n",
    "        if action[1]==\"million\":\n",
    "            new.append((float(action[0])/1000))\n",
    "        elif action[1]==\"billion\":\n",
    "            new.append(float(action[0]))\n",
    "    df[\"Box office (billion $$)\"] = new\n",
    "    df.drop(\"Box office\", axis=1, inplace=True)\n",
    "    return df\n",
    "\n",
    "marvel_df= frame(all_marvel_movies)"
   ]
  },
  {
   "cell_type": "code",
   "execution_count": null,
   "metadata": {},
   "outputs": [],
   "source": [
    "marvel_df"
   ]
  }
 ],
 "metadata": {
  "kernelspec": {
   "display_name": "Python 3",
   "language": "python",
   "name": "python3"
  },
  "language_info": {
   "codemirror_mode": {
    "name": "ipython",
    "version": 3
   },
   "file_extension": ".py",
   "mimetype": "text/x-python",
   "name": "python",
   "nbconvert_exporter": "python",
   "pygments_lexer": "ipython3",
   "version": "3.7.6"
  }
 },
 "nbformat": 4,
 "nbformat_minor": 4
}
